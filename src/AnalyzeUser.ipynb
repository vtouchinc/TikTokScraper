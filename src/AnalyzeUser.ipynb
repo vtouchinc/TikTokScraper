{
 "cells": [
  {
   "cell_type": "code",
   "execution_count": 2,
   "id": "b4e682bb",
   "metadata": {},
   "outputs": [],
   "source": [
    "#Loading the tiktok class and few libraries for data crunching and visualization\n",
    "from tiktok_interface import Tiktok_I_ED\n",
    "import matplotlib.pyplot as plt\n",
    "import numpy as np\n",
    "from itertools import compress"
   ]
  },
  {
   "cell_type": "code",
   "execution_count": 3,
   "id": "804f3516",
   "metadata": {},
   "outputs": [],
   "source": [
    "#Initialize the TikTok fetcher:\n",
    "\n",
    "##Replace this with your token! \n",
    "##Get one for free at https://www.ensembledata.com/register\n",
    "TOKEN = \"dgCXQoJhtLaJRIBW\"\n",
    "\n",
    "tt = Tiktok_I_ED(token_ED_API=TOKEN)"
   ]
  },
  {
   "cell_type": "markdown",
   "id": "fe8b1627",
   "metadata": {},
   "source": [
    "## 이름으로 유저 정보 얻기"
   ]
  },
  {
   "cell_type": "code",
   "execution_count": 4,
   "id": "de62c114",
   "metadata": {},
   "outputs": [
    {
     "name": "stdout",
     "output_type": "stream",
     "text": [
      "{'user': {'short_id': '0', 'nickname': 'MoeEatss', 'gender': 0, 'signature': '📩: moeeatss@gmail.com\\n\\nHow I keep my car clean ⬇️', 'avatar_larger': {'uri': 'tos-maliva-avt-0068/281ab19351dd514d367eb45670d15755', 'url_list': ['https://p16-sign-va.tiktokcdn.com/tos-maliva-avt-0068/281ab19351dd514d367eb45670d15755~c5_1080x1080.webp?lk3s=30310797&nonce=33062&refresh_token=e99e5ccee8378f5afa3f4bcd7ea12070&x-expires=1717556400&x-signature=4%2FhlDHpjWgYynRo3SzCHsqHxTn4%3D&shp=30310797&shcp=811c9dc5', 'https://p16-sign-va.tiktokcdn.com/tos-maliva-avt-0068/281ab19351dd514d367eb45670d15755~c5_1080x1080.jpeg?lk3s=30310797&nonce=613&refresh_token=dffb82805497682c0a030703cbfe22fc&x-expires=1717556400&x-signature=t3DsEH2cOD30%2Bi9QZL%2BTDT%2FTNJU%3D&shp=30310797&shcp=811c9dc5'], 'width': 720, 'height': 720, 'url_prefix': None}, 'avatar_thumb': {'uri': 'tos-maliva-avt-0068/281ab19351dd514d367eb45670d15755', 'url_list': ['https://p16-sign-va.tiktokcdn.com/tos-maliva-avt-0068/281ab19351dd514d367eb45670d15755~c5_100x100.webp?biz_tag=musically_user.user_cover&lk3s=30310797&nonce=69021&refresh_token=fa391881368795a8a61807a7498d0bdb&shcp=811c9dc5&shp=30310797&x-expires=1717556400&x-signature=FGzNiDAjzcatEVeQvsb0qhyq5c4%3D', 'https://p16-sign-va.tiktokcdn.com/tos-maliva-avt-0068/281ab19351dd514d367eb45670d15755~c5_100x100.jpeg?biz_tag=musically_user.user_cover&lk3s=30310797&nonce=60612&refresh_token=8e5df82d5bed8ebf1ef37cbd9f59b75d&shcp=811c9dc5&shp=30310797&x-expires=1717556400&x-signature=J9KrupoHOv66slGtqSOW6P%2FmMEA%3D'], 'width': 720, 'height': 720, 'url_prefix': None}, 'avatar_medium': {'uri': 'tos-maliva-avt-0068/281ab19351dd514d367eb45670d15755', 'url_list': ['https://p16-sign-va.tiktokcdn.com/tos-maliva-avt-0068/281ab19351dd514d367eb45670d15755~c5_720x720.webp?lk3s=30310797&nonce=29186&refresh_token=75855532fc7bcfa2c69f2e4de23eac53&x-expires=1717556400&x-signature=QbEob5k5IO9LUom%2FdDKif4kDGIY%3D&shp=30310797&shcp=811c9dc5', 'https://p16-sign-va.tiktokcdn.com/tos-maliva-avt-0068/281ab19351dd514d367eb45670d15755~c5_720x720.jpeg?lk3s=30310797&nonce=93898&refresh_token=96695aaa423e10877032f43aa1f34d9a&x-expires=1717556400&x-signature=wEdEWChei0plwjcgGrWdlfPhPqk%3D&shp=30310797&shcp=811c9dc5'], 'width': 720, 'height': 720, 'url_prefix': None}, 'birthday': '1900-01-01', 'follow_status': 0, 'favoriting_count': 191, 'is_block': False, 'hide_search': False, 'custom_verify': '', 'bind_phone': '', 'special_lock': 1, 'need_recommend': 0, 'has_facebook_token': False, 'has_twitter_token': False, 'fb_expire_time': 0, 'tw_expire_time': 0, 'has_youtube_token': False, 'youtube_expire_time': 0, 'room_id': 0, 'live_verify': 0, 'authority_status': 0, 'verify_info': '', 'shield_follow_notice': 0, 'shield_digg_notice': 0, 'shield_comment_notice': 0, 'share_info': {'share_url': '', 'share_weibo_desc': '', 'share_desc': '', 'share_title': '', 'share_qrcode_url': {'uri': '', 'url_list': [], 'width': 720, 'height': 720, 'url_prefix': None}, 'share_title_myself': '', 'share_title_other': '', 'share_desc_info': '', 'now_invitation_card_image_urls': None}, 'with_commerce_entry': False, 'verification_type': 1, 'original_musician': {'music_count': 0, 'music_used_count': 0, 'digg_count': 0, 'new_release_clip_ids': None}, 'enterprise_verify_reason': '', 'is_ad_fake': False, 'followers_detail': None, 'region': 'CA', 'account_region': '', 'commerce_user_level': 0, 'live_agreement': 0, 'platform_sync_info': None, 'is_discipline_member': False, 'secret': False, 'has_orders': False, 'prevent_download': False, 'show_image_bubble': False, 'geofencing': [], 'unique_id_modify_time': 1717473158, 'video_icon': {'uri': '', 'url_list': [], 'width': 720, 'height': 720, 'url_prefix': None}, 'ins_id': 'moeeatss', 'google_account': '', 'youtube_channel_id': 'UCEwep7eTfP6dRmjhsdGdHqg', 'youtube_channel_title': 'MoeEatss', 'apple_account': 0, 'with_fusion_shop_entry': False, 'is_phone_binded': False, 'accept_private_policy': False, 'twitter_id': '', 'twitter_name': '', 'user_canceled': False, 'has_email': False, 'live_agreement_time': 0, 'status': 1, 'create_time': 0, 'avatar_uri': 'tos-maliva-avt-0068/281ab19351dd514d367eb45670d15755', 'follower_status': 0, 'reflow_page_gid': 0, 'reflow_page_uid': 0, 'user_rate': 1, 'download_setting': 3, 'download_prompt_ts': 1690314132, 'react_setting': 0, 'live_commerce': False, 'cover_url': [{'uri': 'tiktok-obj/1613727517271041', 'url_list': ['https://p16-sg.tiktokcdn.com/obj/tiktok-obj/1613727517271041?nonce=16287&refresh_token=ff513a4c534548c3d2e2703e513b2172&shp=30310797&shcp=811c9dc5'], 'width': 720, 'height': 720, 'url_prefix': None}], 'language': 'en', 'has_insights': False, 'share_qrcode_uri': '', 'item_list': None, 'user_mode': 1, 'user_period': 0, 'is_star': False, 'cv_level': '', 'type_label': None, 'ad_cover_url': None, 'comment_filter_status': 0, 'avatar_168x168': {'uri': 'tos-maliva-avt-0068/281ab19351dd514d367eb45670d15755', 'url_list': ['https://p16-sign-va.tiktokcdn.com/tos-maliva-avt-0068/281ab19351dd514d367eb45670d15755~c5_168x168.webp?lk3s=30310797&nonce=42727&refresh_token=e43d5af3f066d66d031789289da0f7c1&x-expires=1717556400&x-signature=NApCo2pf9j%2BQVf52gfXcyKbClag%3D&shp=30310797&shcp=811c9dc5', 'https://p16-sign-va.tiktokcdn.com/tos-maliva-avt-0068/281ab19351dd514d367eb45670d15755~c5_168x168.jpeg?lk3s=30310797&nonce=21685&refresh_token=813c6510720c2e334b29d8682d078687&x-expires=1717556400&x-signature=k5etQCJgIY%2FI1XZFSaZ5w70iPvo%3D&shp=30310797&shcp=811c9dc5'], 'width': 720, 'height': 720, 'url_prefix': None}, 'avatar_300x300': {'uri': 'tos-maliva-avt-0068/281ab19351dd514d367eb45670d15755', 'url_list': ['https://p16-sign-va.tiktokcdn.com/tos-maliva-avt-0068/281ab19351dd514d367eb45670d15755~c5_300x300.webp?lk3s=30310797&nonce=22698&refresh_token=114d415bda55081fff04b327f24b504f&x-expires=1717556400&x-signature=N7h%2FRJg5M%2BU7XzsCFzOp51Wk8P0%3D&shp=30310797&shcp=811c9dc5', 'https://p16-sign-va.tiktokcdn.com/tos-maliva-avt-0068/281ab19351dd514d367eb45670d15755~c5_300x300.jpeg?lk3s=30310797&nonce=25596&refresh_token=9ef72c4bdf4fe5a57e82e30c0d22bb10&x-expires=1717556400&x-signature=bnGoUOupibZlny31FvNRUHjVWyw%3D&shp=30310797&shcp=811c9dc5'], 'width': 720, 'height': 720, 'url_prefix': None}, 'relative_users': None, 'cha_list': None, 'need_points': None, 'name_field': 'unique_id', 'homepage_bottom_toast': None, 'can_set_geofencing': None, 'white_cover_url': None, 'user_tags': None, 'bold_fields': None, 'search_user_name': 'moeeatss', 'search_user_desc': 'MoeEatss', 'search_highlight': None, 'mutual_relation_avatars': None, 'events': None, 'block_status': 0, 'enable_direct_message': False, 'advance_feature_item_order': None, 'mention_status': 1, 'special_account': {'special_account_list': None}, 'advanced_feature_info': None, 'user_profile_guide': None, 'shield_edit_field_info': None, 'friends_status': 0, 'can_message_follow_status_list': None, 'account_labels': None, 'fake_data_info': {}, 'is_mute': 0, 'id': '7163174409577284613', 'uniqueId': 'moeeatss', 'avatarThumb': 'https://p16-sign-va.tiktokcdn.com/tos-maliva-avt-0068/281ab19351dd514d367eb45670d15755~c5_100x100.webp?biz_tag=musically_user.user_cover&lk3s=30310797&nonce=69021&refresh_token=fa391881368795a8a61807a7498d0bdb&shcp=811c9dc5&shp=30310797&x-expires=1717556400&x-signature=FGzNiDAjzcatEVeQvsb0qhyq5c4%3D', 'avatarMedium': 'https://p16-sign-va.tiktokcdn.com/tos-maliva-avt-0068/281ab19351dd514d367eb45670d15755~c5_720x720.webp?lk3s=30310797&nonce=29186&refresh_token=75855532fc7bcfa2c69f2e4de23eac53&x-expires=1717556400&x-signature=QbEob5k5IO9LUom%2FdDKif4kDGIY%3D&shp=30310797&shcp=811c9dc5', 'avatarLarger': 'https://p16-sign-va.tiktokcdn.com/tos-maliva-avt-0068/281ab19351dd514d367eb45670d15755~c5_1080x1080.webp?lk3s=30310797&nonce=33062&refresh_token=e99e5ccee8378f5afa3f4bcd7ea12070&x-expires=1717556400&x-signature=4%2FhlDHpjWgYynRo3SzCHsqHxTn4%3D&shp=30310797&shcp=811c9dc5', 'verified': False, 'secUid': 'MS4wLjABAAAAx5vQ4Fla1GNKynRGaDqnEzHP5ImtirOQ8Yvu4ERwB41YfUe9TbelfgtHUMBzBMF7', 'ftc': False, 'relation': 0, 'openFavorite': False, 'commentSetting': 0, 'stitchSetting': 0, 'privateAccount': False, 'duetSetting': 0}, 'stats': {'followingCount': 0, 'followerCount': 700264, 'heartCount': 22205158, 'videoCount': 87, 'diggCount': 191, 'heart': 22205158}}\n"
     ]
    }
   ],
   "source": [
    "#Fetch the latest posts of a user (given its username). \n",
    "# We set a high depth parameter so to get a good history overview.\n",
    "\n",
    "username = \"moeeatss\"\n",
    "res, success = tt.get_user_info(username=username)\n",
    "\n",
    "if success:\n",
    "    print(f\"{res}\")\n",
    "else:\n",
    "    print(\"Something went wrong with the request: \", res.text)"
   ]
  },
  {
   "cell_type": "code",
   "execution_count": 5,
   "id": "98e44233",
   "metadata": {},
   "outputs": [
    {
     "name": "stdout",
     "output_type": "stream",
     "text": [
      "['moeeatss@gmail.com']\n"
     ]
    }
   ],
   "source": [
    "import re\n",
    "# 이메일 정규식 만들기\n",
    "emailReg = re.compile(r'([a-zA-Z0-9._%+-]+@[a-zA-Z0-9.-]+(\\.[a-zA-Z]{2,4}))')\n",
    "signature = res['user'][\"signature\"]\n",
    "matchs_email = []\n",
    "for groups in emailReg.findall(signature):\n",
    "    matchs_email.append(groups[0])\n",
    "print(matchs_email)"
   ]
  },
  {
   "cell_type": "markdown",
   "id": "a6f41093",
   "metadata": {},
   "source": [
    "## 해시태그 검색"
   ]
  },
  {
   "cell_type": "code",
   "execution_count": 6,
   "id": "f42222af",
   "metadata": {},
   "outputs": [
    {
     "name": "stdout",
     "output_type": "stream",
     "text": [
      "Success!\n",
      "\n"
     ]
    }
   ],
   "source": [
    "import json\n",
    "res, success = tt.get_hashtag_posts(name = \"spatialtouch\", cursor = 0)\n",
    "\n",
    "if success:\n",
    "    print(\"Success!\\n\")\n",
    "else:\n",
    "    print(\"Something went wrong, check the response for more information. \\n(Did you insert a valid token?)\")"
   ]
  },
  {
   "cell_type": "markdown",
   "id": "ee0f8140",
   "metadata": {},
   "source": [
    "## 비디오 내용 중 조회수 10000개 이상 비디오 url, user_secid 찾기"
   ]
  },
  {
   "cell_type": "code",
   "execution_count": 7,
   "id": "6e2534e4",
   "metadata": {},
   "outputs": [
    {
     "data": {
      "text/plain": [
       "['https://m.tiktok.com/v/7339179974932417793.html?u_code=0&preview_pb=0&sharer_language=en&_d=e7idime7h36keb&share_item_id=7339179974932417793&source=h5_m',\n",
       " 'https://m.tiktok.com/v/7371535553008798981.html?u_code=0&preview_pb=0&sharer_language=en&_d=e7idime7h36keb&share_item_id=7371535553008798981&source=h5_m',\n",
       " 'https://m.tiktok.com/v/7349588965340597522.html?u_code=0&preview_pb=0&sharer_language=en&_d=e7idime7h36keb&share_item_id=7349588965340597522&source=h5_m',\n",
       " 'https://m.tiktok.com/v/7362938432521309445.html?u_code=0&preview_pb=0&sharer_language=en&_d=e7idime7h36keb&share_item_id=7362938432521309445&source=h5_m',\n",
       " 'https://m.tiktok.com/v/7371467134058171655.html?u_code=0&preview_pb=0&sharer_language=en&_d=e7idime7h36keb&share_item_id=7371467134058171655&source=h5_m',\n",
       " 'https://m.tiktok.com/v/7359975640868654354.html?u_code=0&preview_pb=0&sharer_language=en&_d=e7idime7h36keb&share_item_id=7359975640868654354&source=h5_m']"
      ]
     },
     "execution_count": 7,
     "metadata": {},
     "output_type": "execute_result"
    }
   ],
   "source": [
    "user_sec_id = []\n",
    "url = []\n",
    "for video_data in res['data']:\n",
    "    if video_data[\"statistics\"][\"play_count\"] > 10000:\n",
    "        url.append(video_data[\"share_info\"][\"share_url\"])\n",
    "        user_sec_id.append(video_data[\"author\"][\"sec_uid\"])\n",
    "# digg_count = like\n",
    "# collect_count = 틱톡에 영상 콜라보?하는게 있는데 챌린지할떄 쓰임 그부분\n",
    "user_sec_id\n",
    "url"
   ]
  },
  {
   "cell_type": "markdown",
   "id": "9f86bd3c",
   "metadata": {},
   "source": [
    "## 키워드 검색"
   ]
  },
  {
   "cell_type": "code",
   "execution_count": null,
   "id": "0c1b4484",
   "metadata": {},
   "outputs": [],
   "source": [
    "import json\n",
    "res, success = tt.get_keyword_search(name = \"spatialtouch\", cursor = 0)\n",
    "if success:\n",
    "    print(\"Success!\\n\")\n",
    "else:\n",
    "    print(\"Something went wrong, check the response for more information. \\n(Did you insert a valid token?)\")"
   ]
  },
  {
   "cell_type": "markdown",
   "id": "9acd7ee8",
   "metadata": {},
   "source": [
    "## 위 정보들 내 uid 로"
   ]
  }
 ],
 "metadata": {
  "kernelspec": {
   "display_name": "Python 3 (ipykernel)",
   "language": "python",
   "name": "python3"
  },
  "language_info": {
   "codemirror_mode": {
    "name": "ipython",
    "version": 3
   },
   "file_extension": ".py",
   "mimetype": "text/x-python",
   "name": "python",
   "nbconvert_exporter": "python",
   "pygments_lexer": "ipython3",
   "version": "3.11.7"
  }
 },
 "nbformat": 4,
 "nbformat_minor": 5
}
