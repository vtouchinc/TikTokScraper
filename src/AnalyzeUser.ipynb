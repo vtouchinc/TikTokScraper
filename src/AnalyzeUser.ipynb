{
 "cells": [
  {
   "cell_type": "code",
   "execution_count": 1,
   "id": "b4e682bb",
   "metadata": {},
   "outputs": [],
   "source": [
    "#Loading the tiktok class and few libraries for data crunching and visualization\n",
    "from tiktok_interface import Tiktok_I_ED\n",
    "import matplotlib.pyplot as plt\n",
    "import numpy as np\n",
    "from itertools import compress"
   ]
  },
  {
   "cell_type": "code",
   "execution_count": 2,
   "id": "804f3516",
   "metadata": {},
   "outputs": [],
   "source": [
    "#Initialize the TikTok fetcher:\n",
    "\n",
    "##Replace this with your token! \n",
    "##Get one for free at https://www.ensembledata.com/register\n",
    "TOKEN = \"dgCXQoJhtLaJRIBW\"\n",
    "\n",
    "tt = Tiktok_I_ED(token_ED_API=TOKEN)"
   ]
  },
  {
   "cell_type": "markdown",
   "id": "fe8b1627",
   "metadata": {},
   "source": [
    "## 이름으로 유저 정보 얻기"
   ]
  },
  {
   "cell_type": "code",
   "execution_count": 3,
   "id": "de62c114",
   "metadata": {},
   "outputs": [
    {
     "name": "stdout",
     "output_type": "stream",
     "text": [
      "{'user': {'short_id': '0', 'nickname': 'MoeEatss', 'gender': 0, 'signature': '📩: moeeatss@gmail.com\\n\\nHow I keep my car clean ⬇️', 'avatar_larger': {'uri': 'tos-maliva-avt-0068/281ab19351dd514d367eb45670d15755', 'url_list': ['https://p16-sign-va.tiktokcdn.com/tos-maliva-avt-0068/281ab19351dd514d367eb45670d15755~c5_1080x1080.webp?lk3s=30310797&nonce=86181&refresh_token=2b8805fc98d312973eb01c6d6de908e5&x-expires=1717632000&x-signature=HORo%2FzBjQdghWRICEI4hXqQ9RRE%3D&shp=30310797&shcp=811c9dc5', 'https://p16-sign-va.tiktokcdn.com/tos-maliva-avt-0068/281ab19351dd514d367eb45670d15755~c5_1080x1080.jpeg?lk3s=30310797&nonce=42691&refresh_token=21e11cdc17f66beab7f5ce5171ff1ce2&x-expires=1717632000&x-signature=gxil5BlfwHldadGN6f31kq7GSR8%3D&shp=30310797&shcp=811c9dc5'], 'width': 720, 'height': 720, 'url_prefix': None}, 'avatar_thumb': {'uri': 'tos-maliva-avt-0068/281ab19351dd514d367eb45670d15755', 'url_list': ['https://p16-sign-va.tiktokcdn.com/tos-maliva-avt-0068/281ab19351dd514d367eb45670d15755~c5_100x100.webp?biz_tag=musically_user.user_cover&lk3s=30310797&nonce=59238&refresh_token=83a30ae258464bf1f1697c97a5cc53b2&shcp=811c9dc5&shp=30310797&x-expires=1717632000&x-signature=5t3eIbaIcJf5mMi4wFiLUvosg0I%3D', 'https://p16-sign-va.tiktokcdn.com/tos-maliva-avt-0068/281ab19351dd514d367eb45670d15755~c5_100x100.jpeg?biz_tag=musically_user.user_cover&lk3s=30310797&nonce=1196&refresh_token=0db9ca6538a15ef806ba36b5edb82f72&shcp=811c9dc5&shp=30310797&x-expires=1717632000&x-signature=z2jJAAyfHFOnL0Ei8S8PLWANs4Q%3D'], 'width': 720, 'height': 720, 'url_prefix': None}, 'avatar_medium': {'uri': 'tos-maliva-avt-0068/281ab19351dd514d367eb45670d15755', 'url_list': ['https://p16-sign-va.tiktokcdn.com/tos-maliva-avt-0068/281ab19351dd514d367eb45670d15755~c5_720x720.webp?lk3s=30310797&nonce=63794&refresh_token=54312a0cfa47f84b1799d7882a9e152b&x-expires=1717632000&x-signature=TZofe87a6TC8xtzD05SpX5k6pQ0%3D&shp=30310797&shcp=811c9dc5', 'https://p16-sign-va.tiktokcdn.com/tos-maliva-avt-0068/281ab19351dd514d367eb45670d15755~c5_720x720.jpeg?lk3s=30310797&nonce=43180&refresh_token=609be6ca8b21b160dc0494932ecce874&x-expires=1717632000&x-signature=1u2G8TsZ8Dt%2BwnKeJPfyrNcm%2F4A%3D&shp=30310797&shcp=811c9dc5'], 'width': 720, 'height': 720, 'url_prefix': None}, 'birthday': '1900-01-01', 'follow_status': 0, 'favoriting_count': 191, 'is_block': False, 'hide_search': False, 'custom_verify': '', 'bind_phone': '', 'special_lock': 1, 'need_recommend': 0, 'has_facebook_token': False, 'has_twitter_token': False, 'fb_expire_time': 0, 'tw_expire_time': 0, 'has_youtube_token': False, 'youtube_expire_time': 0, 'room_id': 0, 'live_verify': 0, 'authority_status': 0, 'verify_info': '', 'shield_follow_notice': 0, 'shield_digg_notice': 0, 'shield_comment_notice': 0, 'share_info': {'share_url': '', 'share_weibo_desc': '', 'share_desc': '', 'share_title': '', 'share_qrcode_url': {'uri': '', 'url_list': [], 'width': 720, 'height': 720, 'url_prefix': None}, 'share_title_myself': '', 'share_title_other': '', 'share_desc_info': '', 'now_invitation_card_image_urls': None}, 'with_commerce_entry': False, 'verification_type': 1, 'original_musician': {'music_count': 0, 'music_used_count': 0, 'digg_count': 0, 'new_release_clip_ids': None}, 'enterprise_verify_reason': '', 'is_ad_fake': False, 'followers_detail': None, 'region': 'CA', 'account_region': '', 'commerce_user_level': 0, 'live_agreement': 0, 'platform_sync_info': None, 'is_discipline_member': False, 'secret': False, 'has_orders': False, 'prevent_download': False, 'show_image_bubble': False, 'geofencing': [], 'unique_id_modify_time': 1717548732, 'video_icon': {'uri': '', 'url_list': [], 'width': 720, 'height': 720, 'url_prefix': None}, 'ins_id': 'moeeatss', 'google_account': '', 'youtube_channel_id': 'UCEwep7eTfP6dRmjhsdGdHqg', 'youtube_channel_title': 'MoeEatss', 'apple_account': 0, 'with_fusion_shop_entry': False, 'is_phone_binded': False, 'accept_private_policy': False, 'twitter_id': '', 'twitter_name': '', 'user_canceled': False, 'has_email': False, 'live_agreement_time': 0, 'status': 1, 'create_time': 0, 'avatar_uri': 'tos-maliva-avt-0068/281ab19351dd514d367eb45670d15755', 'follower_status': 0, 'reflow_page_gid': 0, 'reflow_page_uid': 0, 'user_rate': 1, 'download_setting': 3, 'download_prompt_ts': 1690314132, 'react_setting': 0, 'live_commerce': False, 'cover_url': [{'uri': 'tiktok-obj/1613727517271041', 'url_list': ['https://p16-sg.tiktokcdn.com/obj/tiktok-obj/1613727517271041?nonce=82264&refresh_token=c889dd9cd8290dc4f6258a3aa7d82e6a&shp=30310797&shcp=811c9dc5'], 'width': 720, 'height': 720, 'url_prefix': None}], 'language': 'en', 'has_insights': False, 'share_qrcode_uri': '', 'item_list': None, 'user_mode': 1, 'user_period': 0, 'is_star': False, 'cv_level': '', 'type_label': None, 'ad_cover_url': None, 'comment_filter_status': 0, 'avatar_168x168': {'uri': 'tos-maliva-avt-0068/281ab19351dd514d367eb45670d15755', 'url_list': ['https://p16-sign-va.tiktokcdn.com/tos-maliva-avt-0068/281ab19351dd514d367eb45670d15755~c5_168x168.webp?lk3s=30310797&nonce=35660&refresh_token=b728f82f64b67815b5446236253143ae&x-expires=1717632000&x-signature=A2CkXfcXivD7nTnD2tW5RBliWk4%3D&shp=30310797&shcp=811c9dc5', 'https://p16-sign-va.tiktokcdn.com/tos-maliva-avt-0068/281ab19351dd514d367eb45670d15755~c5_168x168.jpeg?lk3s=30310797&nonce=28918&refresh_token=19bc124074faba57703c5be9ead9d116&x-expires=1717632000&x-signature=McRu%2BRBPxLQtkeEQb0L8X5agktg%3D&shp=30310797&shcp=811c9dc5'], 'width': 720, 'height': 720, 'url_prefix': None}, 'avatar_300x300': {'uri': 'tos-maliva-avt-0068/281ab19351dd514d367eb45670d15755', 'url_list': ['https://p16-sign-va.tiktokcdn.com/tos-maliva-avt-0068/281ab19351dd514d367eb45670d15755~c5_300x300.webp?lk3s=30310797&nonce=86459&refresh_token=3654e73bb630ebbcfc549cc1d03912d3&x-expires=1717632000&x-signature=vB2sCGsgiblpuBusl%2BHeaxmNlGw%3D&shp=30310797&shcp=811c9dc5', 'https://p16-sign-va.tiktokcdn.com/tos-maliva-avt-0068/281ab19351dd514d367eb45670d15755~c5_300x300.jpeg?lk3s=30310797&nonce=62141&refresh_token=9427b78855af4f6836c24ba1f9b71dbc&x-expires=1717632000&x-signature=WpDuK1fwL7lW3gszyNbgVfxjmKQ%3D&shp=30310797&shcp=811c9dc5'], 'width': 720, 'height': 720, 'url_prefix': None}, 'relative_users': None, 'cha_list': None, 'need_points': None, 'name_field': 'unique_id', 'homepage_bottom_toast': None, 'can_set_geofencing': None, 'white_cover_url': None, 'user_tags': None, 'bold_fields': None, 'search_user_name': 'moeeatss', 'search_user_desc': 'MoeEatss', 'search_highlight': None, 'mutual_relation_avatars': None, 'events': None, 'block_status': 0, 'enable_direct_message': False, 'advance_feature_item_order': None, 'mention_status': 1, 'special_account': {'special_account_list': None}, 'advanced_feature_info': None, 'user_profile_guide': None, 'shield_edit_field_info': None, 'friends_status': 0, 'can_message_follow_status_list': None, 'account_labels': None, 'fake_data_info': {}, 'is_mute': 0, 'id': '7163174409577284613', 'uniqueId': 'moeeatss', 'avatarThumb': 'https://p16-sign-va.tiktokcdn.com/tos-maliva-avt-0068/281ab19351dd514d367eb45670d15755~c5_100x100.webp?biz_tag=musically_user.user_cover&lk3s=30310797&nonce=59238&refresh_token=83a30ae258464bf1f1697c97a5cc53b2&shcp=811c9dc5&shp=30310797&x-expires=1717632000&x-signature=5t3eIbaIcJf5mMi4wFiLUvosg0I%3D', 'avatarMedium': 'https://p16-sign-va.tiktokcdn.com/tos-maliva-avt-0068/281ab19351dd514d367eb45670d15755~c5_720x720.webp?lk3s=30310797&nonce=63794&refresh_token=54312a0cfa47f84b1799d7882a9e152b&x-expires=1717632000&x-signature=TZofe87a6TC8xtzD05SpX5k6pQ0%3D&shp=30310797&shcp=811c9dc5', 'avatarLarger': 'https://p16-sign-va.tiktokcdn.com/tos-maliva-avt-0068/281ab19351dd514d367eb45670d15755~c5_1080x1080.webp?lk3s=30310797&nonce=86181&refresh_token=2b8805fc98d312973eb01c6d6de908e5&x-expires=1717632000&x-signature=HORo%2FzBjQdghWRICEI4hXqQ9RRE%3D&shp=30310797&shcp=811c9dc5', 'verified': False, 'secUid': 'MS4wLjABAAAAx5vQ4Fla1GNKynRGaDqnEzHP5ImtirOQ8Yvu4ERwB41YfUe9TbelfgtHUMBzBMF7', 'ftc': False, 'relation': 0, 'openFavorite': False, 'commentSetting': 0, 'stitchSetting': 0, 'privateAccount': False, 'duetSetting': 0}, 'stats': {'followingCount': 0, 'followerCount': 707155, 'heartCount': 22525140, 'videoCount': 88, 'diggCount': 191, 'heart': 22525140}}\n"
     ]
    }
   ],
   "source": [
    "#Fetch the latest posts of a user (given its username). \n",
    "# We set a high depth parameter so to get a good history overview.\n",
    "\n",
    "username = \"moeeatss\"\n",
    "res, success = tt.get_user_info(username=username)\n",
    "\n",
    "if success:\n",
    "    print(f\"{res}\")\n",
    "else:\n",
    "    print(\"Something went wrong with the request: \", res.text)"
   ]
  },
  {
   "cell_type": "code",
   "execution_count": 4,
   "id": "98e44233",
   "metadata": {},
   "outputs": [
    {
     "name": "stdout",
     "output_type": "stream",
     "text": [
      "['moeeatss@gmail.com']\n"
     ]
    }
   ],
   "source": [
    "import re\n",
    "# 이메일 정규식 만들기\n",
    "emailReg = re.compile(r'([a-zA-Z0-9._%+-]+@[a-zA-Z0-9.-]+(\\.[a-zA-Z]{2,4}))')\n",
    "signature = res['user'][\"signature\"]\n",
    "matchs_email = []\n",
    "for groups in emailReg.findall(signature):\n",
    "    matchs_email.append(groups[0])\n",
    "print(matchs_email)"
   ]
  },
  {
   "cell_type": "markdown",
   "id": "a6f41093",
   "metadata": {},
   "source": [
    "## 해시태그 검색"
   ]
  },
  {
   "cell_type": "code",
   "execution_count": 5,
   "id": "f42222af",
   "metadata": {},
   "outputs": [
    {
     "name": "stdout",
     "output_type": "stream",
     "text": [
      "Success!\n",
      "\n"
     ]
    }
   ],
   "source": [
    "import json\n",
    "res, success = tt.get_hashtag_posts(name = \"spatialtouch\", cursor = 0)\n",
    "\n",
    "if success:\n",
    "    print(\"Success!\\n\")\n",
    "else:\n",
    "    print(\"Something went wrong, check the response for more information. \\n(Did you insert a valid token?)\")"
   ]
  },
  {
   "cell_type": "markdown",
   "id": "ee0f8140",
   "metadata": {},
   "source": [
    "## 비디오 내용 중 조회수 10000개 이상 비디오 url, user_secid 찾기"
   ]
  },
  {
   "cell_type": "code",
   "execution_count": 6,
   "id": "6e2534e4",
   "metadata": {},
   "outputs": [],
   "source": [
    "user_sec_id = []\n",
    "url = []\n",
    "for video_data in res['data']:\n",
    "    if video_data[\"statistics\"][\"play_count\"] > 10000:\n",
    "        url.append(video_data[\"share_info\"][\"share_url\"])\n",
    "        user_sec_id.append(video_data[\"author\"][\"sec_uid\"])\n",
    "# digg_count = like\n",
    "# collect_count = 틱톡에 영상 콜라보?하는게 있는데 챌린지할떄 쓰임 그부분"
   ]
  },
  {
   "cell_type": "markdown",
   "id": "c1911a90",
   "metadata": {},
   "source": [
    "### 유저 uid"
   ]
  },
  {
   "cell_type": "code",
   "execution_count": 7,
   "id": "ca08e6a2",
   "metadata": {},
   "outputs": [
    {
     "data": {
      "text/plain": [
       "['MS4wLjABAAAALZFlJdXBLhmNVawjh6K7-yexvm8m5lHOtdQnomsqI56j7P3vgwr8Aihgh3jdqhG1',\n",
       " 'MS4wLjABAAAAx5vQ4Fla1GNKynRGaDqnEzHP5ImtirOQ8Yvu4ERwB41YfUe9TbelfgtHUMBzBMF7',\n",
       " 'MS4wLjABAAAAu7d-ZfDOb27Peu6DwlM16vaOYzEgnoe3754WfGZyJCsExi_Af2T7z50I-9dvOxKy',\n",
       " 'MS4wLjABAAAABWO18zuyLC8QWtWdu1KMwM54oI4XvMOfwxiodhpprNvTW01L6iTqtXELMZQzjbz1',\n",
       " 'MS4wLjABAAAAQ5jiieK7G6a2l4gVqvoK1zKXIlV1hCuIGDRK5cRnD6TPvRouA4T6-GfPJfWgEGGq',\n",
       " 'MS4wLjABAAAAmWVeLhWqHfqW_WOS5yozg2d3Y9F7i2uCsEEtngUs0y8lTx4LIkI4fw56SrQFMbhw']"
      ]
     },
     "execution_count": 7,
     "metadata": {},
     "output_type": "execute_result"
    }
   ],
   "source": [
    "user_sec_id"
   ]
  },
  {
   "cell_type": "markdown",
   "id": "e36f8556",
   "metadata": {},
   "source": [
    "### 동영상 링크"
   ]
  },
  {
   "cell_type": "code",
   "execution_count": 8,
   "id": "0b75e61c",
   "metadata": {},
   "outputs": [
    {
     "data": {
      "text/plain": [
       "['https://m.tiktok.com/v/7339179974932417793.html?u_code=0&preview_pb=0&sharer_language=en&_d=e34eb405b8cbfj&share_item_id=7339179974932417793&source=h5_m',\n",
       " 'https://m.tiktok.com/v/7371535553008798981.html?u_code=0&preview_pb=0&sharer_language=en&_d=e34eb405b8cbfj&share_item_id=7371535553008798981&source=h5_m',\n",
       " 'https://m.tiktok.com/v/7349588965340597522.html?u_code=0&preview_pb=0&sharer_language=en&_d=e34eb405b8cbfj&share_item_id=7349588965340597522&source=h5_m',\n",
       " 'https://m.tiktok.com/v/7362938432521309445.html?u_code=0&preview_pb=0&sharer_language=en&_d=e34eb405b8cbfj&share_item_id=7362938432521309445&source=h5_m',\n",
       " 'https://m.tiktok.com/v/7371467134058171655.html?u_code=0&preview_pb=0&sharer_language=en&_d=e34eb405b8cbfj&share_item_id=7371467134058171655&source=h5_m',\n",
       " 'https://m.tiktok.com/v/7359975640868654354.html?u_code=0&preview_pb=0&sharer_language=en&_d=e34eb405b8cbfj&share_item_id=7359975640868654354&source=h5_m']"
      ]
     },
     "execution_count": 8,
     "metadata": {},
     "output_type": "execute_result"
    }
   ],
   "source": [
    "url"
   ]
  },
  {
   "cell_type": "markdown",
   "id": "9f86bd3c",
   "metadata": {},
   "source": [
    "## 키워드 검색"
   ]
  },
  {
   "cell_type": "code",
   "execution_count": null,
   "id": "0c1b4484",
   "metadata": {},
   "outputs": [],
   "source": [
    "import json\n",
    "res, success = tt.get_keyword_search(name = \"spatialtouch\", cursor = 0)\n",
    "if success:\n",
    "    print(\"Success!\\n\")\n",
    "else:\n",
    "    print(\"Something went wrong, check the response for more information. \\n(Did you insert a valid token?)\")"
   ]
  },
  {
   "cell_type": "markdown",
   "id": "9acd7ee8",
   "metadata": {},
   "source": [
    "## 위 정보들 내 uid 로"
   ]
  }
 ],
 "metadata": {
  "kernelspec": {
   "display_name": "Python 3 (ipykernel)",
   "language": "python",
   "name": "python3"
  },
  "language_info": {
   "codemirror_mode": {
    "name": "ipython",
    "version": 3
   },
   "file_extension": ".py",
   "mimetype": "text/x-python",
   "name": "python",
   "nbconvert_exporter": "python",
   "pygments_lexer": "ipython3",
   "version": "3.11.7"
  }
 },
 "nbformat": 4,
 "nbformat_minor": 5
}
